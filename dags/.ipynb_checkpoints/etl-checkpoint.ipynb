{
 "cells": [
  {
   "cell_type": "code",
   "execution_count": 1,
   "metadata": {},
   "outputs": [],
   "source": [
    "import pandas as pd"
   ]
  },
  {
   "cell_type": "code",
   "execution_count": null,
   "metadata": {},
   "outputs": [],
   "source": [
    "# def transforming():\n",
    "data = {\"coord\":{\"lon\":-0.1257,\"lat\":51.5085},\"weather\":[{\"id\":802,\"main\":\"Clouds\",\"description\":\"scattered clouds\",\"icon\":\"03n\"}],\"base\":\"stations\",\"main\":{\"temp\":283.35,\"feels_like\":282.8,\"temp_min\":281.73,\"temp_max\":285.01,\"pressure\":992,\"humidity\":91},\"visibility\":10000,\"wind\":{\"speed\":4.63,\"deg\":210},\"clouds\":{\"all\":40},\"dt\":1698606159,\"sys\":{\"type\":2,\"id\":2006068,\"country\":\"GB\",\"sunrise\":1698562071,\"sunset\":1698597626},\"timezone\":0,\"id\":2643743,\"name\":\"London\",\"cod\":200}\n",
    "df = pd.DataFrame(data)\n",
    "print(df)"
   ]
  }
 ],
 "metadata": {
  "kernelspec": {
   "display_name": "Python 3 (ipykernel)",
   "language": "python",
   "name": "python3"
  },
  "language_info": {
   "codemirror_mode": {
    "name": "ipython",
    "version": 3
   },
   "file_extension": ".py",
   "mimetype": "text/x-python",
   "name": "python",
   "nbconvert_exporter": "python",
   "pygments_lexer": "ipython3",
   "version": "3.10.11"
  }
 },
 "nbformat": 4,
 "nbformat_minor": 2
}
