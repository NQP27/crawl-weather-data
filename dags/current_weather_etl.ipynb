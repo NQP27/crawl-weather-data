{
 "cells": [
  {
   "cell_type": "code",
   "execution_count": 17,
   "metadata": {},
   "outputs": [],
   "source": [
    "import pandas as pd \n",
    "from datetime import datetime\n",
    "import csv\n",
    "from airflow.providers.postgres.hooks.postgres import PostgresHook\n",
    "\n"
   ]
  },
  {
   "cell_type": "code",
   "execution_count": 2,
   "metadata": {},
   "outputs": [],
   "source": [
    "def kevin_to_celcius(k):\n",
    "    c =float(k)-273\n",
    "    return round(c,2) \n"
   ]
  },
  {
   "cell_type": "code",
   "execution_count": 3,
   "metadata": {},
   "outputs": [],
   "source": [
    "# def transforming():\n",
    "data = {\"coord\":{\"lon\":105.8412,\"lat\":21.0245},\"weather\":[{\"id\":804,\"main\":\"Clouds\",\"description\":\"overcast clouds\",\"icon\":\"04n\"}],\"base\":\"stations\",\"main\":{\"temp\":297.15,\"feels_like\":297.77,\"temp_min\":297.15,\"temp_max\":297.15,\"pressure\":1016,\"humidity\":83,\"sea_level\":1016,\"grnd_level\":1014},\"visibility\":10000,\"wind\":{\"speed\":3.38,\"deg\":2,\"gust\":8.33},\"clouds\":{\"all\":100},\"dt\":1698614196,\"sys\":{\"type\":1,\"id\":9308,\"country\":\"VN\",\"sunrise\":1698620272,\"sunset\":1698661356},\"timezone\":25200,\"id\":1581130,\"name\":\"Hanoi\",\"cod\":200}\n"
   ]
  },
  {
   "cell_type": "code",
   "execution_count": 4,
   "metadata": {},
   "outputs": [],
   "source": [
    "name = data['name']\n",
    "description = data['weather'][0]['description']\n",
    "data_1 = data['main']\n",
    "temp = kevin_to_celcius(data_1['temp'])\n",
    "feels_like = kevin_to_celcius(data_1['feels_like'])\n",
    "temp_min = kevin_to_celcius(data_1['temp_min'])\n",
    "temp_max = kevin_to_celcius(data_1['temp_max'])\n",
    "pressure = data_1['pressure']\n",
    "humidity = data_1['humidity']\n",
    "wind = data['wind']['speed']\n",
    "time_of_record = datetime.utcfromtimestamp(data['dt']+data['timezone'])\n",
    "sunrise = datetime.utcfromtimestamp(data['sys']['sunrise']+data['timezone'])\n",
    "sunset = datetime.utcfromtimestamp(data['sys']['sunset']+data['timezone'])\n",
    "\n"
   ]
  },
  {
   "cell_type": "code",
   "execution_count": 27,
   "metadata": {},
   "outputs": [
    {
     "data": {
      "text/html": [
       "<div>\n",
       "<style scoped>\n",
       "    .dataframe tbody tr th:only-of-type {\n",
       "        vertical-align: middle;\n",
       "    }\n",
       "\n",
       "    .dataframe tbody tr th {\n",
       "        vertical-align: top;\n",
       "    }\n",
       "\n",
       "    .dataframe thead th {\n",
       "        text-align: right;\n",
       "    }\n",
       "</style>\n",
       "<table border=\"1\" class=\"dataframe\">\n",
       "  <thead>\n",
       "    <tr style=\"text-align: right;\">\n",
       "      <th></th>\n",
       "      <th>City</th>\n",
       "      <th>Description</th>\n",
       "      <th>Temperature(C)</th>\n",
       "      <th>Feels Like(C)</th>\n",
       "      <th>Minimum Temp(C)</th>\n",
       "      <th>Maximun Temp(C)</th>\n",
       "      <th>Pressure</th>\n",
       "      <th>Humidity</th>\n",
       "      <th>Wind Speed</th>\n",
       "      <th>Time of record</th>\n",
       "      <th>Sunrise(Local Time)</th>\n",
       "      <th>Sunset(Local Time)</th>\n",
       "    </tr>\n",
       "  </thead>\n",
       "  <tbody>\n",
       "    <tr>\n",
       "      <th>0</th>\n",
       "      <td>Hanoi</td>\n",
       "      <td>overcast clouds</td>\n",
       "      <td>24.15</td>\n",
       "      <td>24.77</td>\n",
       "      <td>24.15</td>\n",
       "      <td>24.15</td>\n",
       "      <td>1016</td>\n",
       "      <td>83</td>\n",
       "      <td>3.38</td>\n",
       "      <td>2023-10-30 04:16:36</td>\n",
       "      <td>2023-10-30 05:57:52</td>\n",
       "      <td>2023-10-30 17:22:36</td>\n",
       "    </tr>\n",
       "  </tbody>\n",
       "</table>\n",
       "</div>"
      ],
      "text/plain": [
       "    City      Description  Temperature(C)  Feels Like(C)  Minimum Temp(C)  \\\n",
       "0  Hanoi  overcast clouds           24.15          24.77            24.15   \n",
       "\n",
       "   Maximun Temp(C)  Pressure  Humidity  Wind Speed      Time of record  \\\n",
       "0            24.15      1016        83        3.38 2023-10-30 04:16:36   \n",
       "\n",
       "  Sunrise(Local Time)  Sunset(Local Time)  \n",
       "0 2023-10-30 05:57:52 2023-10-30 17:22:36  "
      ]
     },
     "execution_count": 27,
     "metadata": {},
     "output_type": "execute_result"
    }
   ],
   "source": [
    "\n",
    "value = [name,description,temp,feels_like,temp_min,\n",
    "        temp_max,pressure,humidity,wind,time_of_record,\n",
    "        sunrise,sunset]\n",
    "schema = ['City', 'Description','Temperature(C)',\n",
    "          'Feels Like(C)','Minimum Temp(C)','Maximun Temp(C)',\n",
    "          'Pressure','Humidity','Wind Speed',\n",
    "          'Time of record','Sunrise(Local Time)','Sunset(Local Time)']\n",
    "data ={schema[i]:value[i] for i in range(0,12)}\n",
    "df = pd.DataFrame([data])\n",
    "df\n"
   ]
  },
  {
   "cell_type": "code",
   "execution_count": 24,
   "metadata": {},
   "outputs": [
    {
     "data": {
      "text/plain": [
       "'City,Description,Temperature(C),Feels Like(C),Minimum Temp(C),Maximun Temp(C),Pressure,Humidity,Wind Speed,Time of record,Sunrise(Local Time),Sunset(Local Time)'"
      ]
     },
     "execution_count": 24,
     "metadata": {},
     "output_type": "execute_result"
    }
   ],
   "source": []
  },
  {
   "cell_type": "code",
   "execution_count": null,
   "metadata": {},
   "outputs": [],
   "source": []
  },
  {
   "cell_type": "code",
   "execution_count": 25,
   "metadata": {},
   "outputs": [
    {
     "data": {
      "text/plain": [
       "'Hanoi,overcast clouds,24.15,24.77,24.15,24.15,1016,83,3.38,2023-10-30 04:16:36,2023-10-30 05:57:52,2023-10-30 17:22:36'"
      ]
     },
     "execution_count": 25,
     "metadata": {},
     "output_type": "execute_result"
    }
   ],
   "source": []
  }
 ],
 "metadata": {
  "kernelspec": {
   "display_name": "Python 3 (ipykernel)",
   "language": "python",
   "name": "python3"
  }
 },
 "nbformat": 4,
 "nbformat_minor": 2
}
